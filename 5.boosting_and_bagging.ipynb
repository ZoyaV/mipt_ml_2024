{
 "cells": [
  {
   "cell_type": "code",
   "execution_count": 1,
   "id": "7fc096c7-e5dd-4c70-a325-beaa703cde83",
   "metadata": {},
   "outputs": [],
   "source": [
    "import pandas as pd\n",
    "import numpy as np"
   ]
  },
  {
   "cell_type": "code",
   "execution_count": 2,
   "id": "3803453b-4d40-4618-8f12-c487884c3df5",
   "metadata": {},
   "outputs": [],
   "source": [
    "data = pd.read_csv(\"bicycle-sales/train_bike.csv\")"
   ]
  },
  {
   "cell_type": "code",
   "execution_count": 4,
   "id": "eebc10dd-8598-41e6-a21d-8259dacfb322",
   "metadata": {},
   "outputs": [
    {
     "data": {
      "text/plain": [
       "Index(['Unnamed: 0', 'Группа', 'Формат', 'Тип площадки', 'Формат.1',\n",
       "       'Тип устройства', 'Пол', 'Категория таргетинга', 'Упоминание брендов',\n",
       "       'Уровень платежеспособности', 'Возраст', 'Unnamed: 0.1', 'wCTR (%)'],\n",
       "      dtype='object')"
      ]
     },
     "execution_count": 4,
     "metadata": {},
     "output_type": "execute_result"
    }
   ],
   "source": [
    "data.keys()"
   ]
  },
  {
   "cell_type": "code",
   "execution_count": 7,
   "id": "5d3a95ec-eb5e-493c-9f3c-3f0986c4a086",
   "metadata": {},
   "outputs": [],
   "source": [
    "test =  pd.read_csv(\"bicycle-sales/test_bike.csv\")"
   ]
  },
  {
   "cell_type": "code",
   "execution_count": 84,
   "id": "34138b95-23f3-45b5-a59b-f891cacde477",
   "metadata": {},
   "outputs": [],
   "source": [
    "X = data[['Группа', 'Формат', 'Тип площадки', 'Формат.1',\n",
    "       'Тип устройства', 'Пол', 'Категория таргетинга', 'Упоминание брендов',\n",
    "       'Уровень платежеспособности', 'Возраст']]\n",
    "\n",
    "X_test = test[['Группа', 'Формат', 'Тип площадки', 'Формат.1',\n",
    "       'Тип устройства', 'Пол', 'Категория таргетинга', 'Упоминание брендов',\n",
    "       'Уровень платежеспособности', 'Возраст']]"
   ]
  },
  {
   "cell_type": "code",
   "execution_count": 100,
   "id": "ff1314d6-121d-4cf8-9657-0d3293912486",
   "metadata": {},
   "outputs": [],
   "source": [
    "X_test_encoded = pd.get_dummies(X_test, columns=columns_to_encode).astype(int)"
   ]
  },
  {
   "cell_type": "code",
   "execution_count": 6,
   "id": "76bab151-2dc5-4969-996b-067b57a3c689",
   "metadata": {},
   "outputs": [],
   "source": [
    "y = data['wCTR (%)']"
   ]
  },
  {
   "cell_type": "code",
   "execution_count": 9,
   "id": "07ebd1d8-9f6f-4257-810a-3f8de2f62ca0",
   "metadata": {},
   "outputs": [],
   "source": [
    "columns_to_encode = [col for col in X.columns]\n",
    "df_encoded = pd.get_dummies(X, columns=columns_to_encode).astype(int)"
   ]
  },
  {
   "cell_type": "code",
   "execution_count": 10,
   "id": "4d5496e8-e03c-4a53-a4d1-8529a7ae88bf",
   "metadata": {},
   "outputs": [
    {
     "data": {
      "text/html": [
       "<div>\n",
       "<style scoped>\n",
       "    .dataframe tbody tr th:only-of-type {\n",
       "        vertical-align: middle;\n",
       "    }\n",
       "\n",
       "    .dataframe tbody tr th {\n",
       "        vertical-align: top;\n",
       "    }\n",
       "\n",
       "    .dataframe thead th {\n",
       "        text-align: right;\n",
       "    }\n",
       "</style>\n",
       "<table border=\"1\" class=\"dataframe\">\n",
       "  <thead>\n",
       "    <tr style=\"text-align: right;\">\n",
       "      <th></th>\n",
       "      <th>Группа_Велик ГЕО</th>\n",
       "      <th>Группа_Велик Купить / Цена</th>\n",
       "      <th>Группа_Веломагазин</th>\n",
       "      <th>Группа_Велосипед +для лет/года</th>\n",
       "      <th>Группа_Велосипед Favorit</th>\n",
       "      <th>Группа_Велосипед Novatrack</th>\n",
       "      <th>Группа_Велосипед Stels</th>\n",
       "      <th>Группа_Велосипед Stinger</th>\n",
       "      <th>Группа_Велосипед Ангарск</th>\n",
       "      <th>Группа_Велосипед Большой</th>\n",
       "      <th>...</th>\n",
       "      <th>Уровень платежеспособности_2-5%</th>\n",
       "      <th>Уровень платежеспособности_6-10%</th>\n",
       "      <th>Уровень платежеспособности_Остальные</th>\n",
       "      <th>Возраст_18-24</th>\n",
       "      <th>Возраст_25-34</th>\n",
       "      <th>Возраст_35-44</th>\n",
       "      <th>Возраст_45-54</th>\n",
       "      <th>Возраст_младше 18</th>\n",
       "      <th>Возраст_не определен</th>\n",
       "      <th>Возраст_старше 55</th>\n",
       "    </tr>\n",
       "  </thead>\n",
       "  <tbody>\n",
       "    <tr>\n",
       "      <th>0</th>\n",
       "      <td>0</td>\n",
       "      <td>0</td>\n",
       "      <td>0</td>\n",
       "      <td>0</td>\n",
       "      <td>0</td>\n",
       "      <td>0</td>\n",
       "      <td>0</td>\n",
       "      <td>0</td>\n",
       "      <td>0</td>\n",
       "      <td>0</td>\n",
       "      <td>...</td>\n",
       "      <td>0</td>\n",
       "      <td>0</td>\n",
       "      <td>1</td>\n",
       "      <td>0</td>\n",
       "      <td>0</td>\n",
       "      <td>1</td>\n",
       "      <td>0</td>\n",
       "      <td>0</td>\n",
       "      <td>0</td>\n",
       "      <td>0</td>\n",
       "    </tr>\n",
       "    <tr>\n",
       "      <th>1</th>\n",
       "      <td>0</td>\n",
       "      <td>0</td>\n",
       "      <td>0</td>\n",
       "      <td>0</td>\n",
       "      <td>0</td>\n",
       "      <td>0</td>\n",
       "      <td>0</td>\n",
       "      <td>0</td>\n",
       "      <td>0</td>\n",
       "      <td>0</td>\n",
       "      <td>...</td>\n",
       "      <td>0</td>\n",
       "      <td>0</td>\n",
       "      <td>1</td>\n",
       "      <td>0</td>\n",
       "      <td>0</td>\n",
       "      <td>1</td>\n",
       "      <td>0</td>\n",
       "      <td>0</td>\n",
       "      <td>0</td>\n",
       "      <td>0</td>\n",
       "    </tr>\n",
       "    <tr>\n",
       "      <th>2</th>\n",
       "      <td>0</td>\n",
       "      <td>0</td>\n",
       "      <td>0</td>\n",
       "      <td>0</td>\n",
       "      <td>0</td>\n",
       "      <td>0</td>\n",
       "      <td>1</td>\n",
       "      <td>0</td>\n",
       "      <td>0</td>\n",
       "      <td>0</td>\n",
       "      <td>...</td>\n",
       "      <td>0</td>\n",
       "      <td>0</td>\n",
       "      <td>1</td>\n",
       "      <td>0</td>\n",
       "      <td>0</td>\n",
       "      <td>0</td>\n",
       "      <td>0</td>\n",
       "      <td>0</td>\n",
       "      <td>1</td>\n",
       "      <td>0</td>\n",
       "    </tr>\n",
       "    <tr>\n",
       "      <th>3</th>\n",
       "      <td>0</td>\n",
       "      <td>0</td>\n",
       "      <td>1</td>\n",
       "      <td>0</td>\n",
       "      <td>0</td>\n",
       "      <td>0</td>\n",
       "      <td>0</td>\n",
       "      <td>0</td>\n",
       "      <td>0</td>\n",
       "      <td>0</td>\n",
       "      <td>...</td>\n",
       "      <td>0</td>\n",
       "      <td>1</td>\n",
       "      <td>0</td>\n",
       "      <td>0</td>\n",
       "      <td>0</td>\n",
       "      <td>0</td>\n",
       "      <td>1</td>\n",
       "      <td>0</td>\n",
       "      <td>0</td>\n",
       "      <td>0</td>\n",
       "    </tr>\n",
       "    <tr>\n",
       "      <th>4</th>\n",
       "      <td>0</td>\n",
       "      <td>0</td>\n",
       "      <td>0</td>\n",
       "      <td>0</td>\n",
       "      <td>0</td>\n",
       "      <td>0</td>\n",
       "      <td>0</td>\n",
       "      <td>0</td>\n",
       "      <td>1</td>\n",
       "      <td>0</td>\n",
       "      <td>...</td>\n",
       "      <td>0</td>\n",
       "      <td>0</td>\n",
       "      <td>1</td>\n",
       "      <td>0</td>\n",
       "      <td>1</td>\n",
       "      <td>0</td>\n",
       "      <td>0</td>\n",
       "      <td>0</td>\n",
       "      <td>0</td>\n",
       "      <td>0</td>\n",
       "    </tr>\n",
       "    <tr>\n",
       "      <th>...</th>\n",
       "      <td>...</td>\n",
       "      <td>...</td>\n",
       "      <td>...</td>\n",
       "      <td>...</td>\n",
       "      <td>...</td>\n",
       "      <td>...</td>\n",
       "      <td>...</td>\n",
       "      <td>...</td>\n",
       "      <td>...</td>\n",
       "      <td>...</td>\n",
       "      <td>...</td>\n",
       "      <td>...</td>\n",
       "      <td>...</td>\n",
       "      <td>...</td>\n",
       "      <td>...</td>\n",
       "      <td>...</td>\n",
       "      <td>...</td>\n",
       "      <td>...</td>\n",
       "      <td>...</td>\n",
       "      <td>...</td>\n",
       "      <td>...</td>\n",
       "    </tr>\n",
       "    <tr>\n",
       "      <th>9656</th>\n",
       "      <td>0</td>\n",
       "      <td>0</td>\n",
       "      <td>1</td>\n",
       "      <td>0</td>\n",
       "      <td>0</td>\n",
       "      <td>0</td>\n",
       "      <td>0</td>\n",
       "      <td>0</td>\n",
       "      <td>0</td>\n",
       "      <td>0</td>\n",
       "      <td>...</td>\n",
       "      <td>0</td>\n",
       "      <td>0</td>\n",
       "      <td>1</td>\n",
       "      <td>0</td>\n",
       "      <td>0</td>\n",
       "      <td>0</td>\n",
       "      <td>1</td>\n",
       "      <td>0</td>\n",
       "      <td>0</td>\n",
       "      <td>0</td>\n",
       "    </tr>\n",
       "    <tr>\n",
       "      <th>9657</th>\n",
       "      <td>0</td>\n",
       "      <td>0</td>\n",
       "      <td>0</td>\n",
       "      <td>0</td>\n",
       "      <td>0</td>\n",
       "      <td>0</td>\n",
       "      <td>0</td>\n",
       "      <td>0</td>\n",
       "      <td>0</td>\n",
       "      <td>0</td>\n",
       "      <td>...</td>\n",
       "      <td>0</td>\n",
       "      <td>1</td>\n",
       "      <td>0</td>\n",
       "      <td>0</td>\n",
       "      <td>0</td>\n",
       "      <td>1</td>\n",
       "      <td>0</td>\n",
       "      <td>0</td>\n",
       "      <td>0</td>\n",
       "      <td>0</td>\n",
       "    </tr>\n",
       "    <tr>\n",
       "      <th>9658</th>\n",
       "      <td>0</td>\n",
       "      <td>0</td>\n",
       "      <td>0</td>\n",
       "      <td>0</td>\n",
       "      <td>0</td>\n",
       "      <td>0</td>\n",
       "      <td>0</td>\n",
       "      <td>0</td>\n",
       "      <td>0</td>\n",
       "      <td>0</td>\n",
       "      <td>...</td>\n",
       "      <td>0</td>\n",
       "      <td>0</td>\n",
       "      <td>1</td>\n",
       "      <td>1</td>\n",
       "      <td>0</td>\n",
       "      <td>0</td>\n",
       "      <td>0</td>\n",
       "      <td>0</td>\n",
       "      <td>0</td>\n",
       "      <td>0</td>\n",
       "    </tr>\n",
       "    <tr>\n",
       "      <th>9659</th>\n",
       "      <td>0</td>\n",
       "      <td>0</td>\n",
       "      <td>0</td>\n",
       "      <td>0</td>\n",
       "      <td>0</td>\n",
       "      <td>0</td>\n",
       "      <td>0</td>\n",
       "      <td>0</td>\n",
       "      <td>0</td>\n",
       "      <td>0</td>\n",
       "      <td>...</td>\n",
       "      <td>0</td>\n",
       "      <td>0</td>\n",
       "      <td>1</td>\n",
       "      <td>0</td>\n",
       "      <td>1</td>\n",
       "      <td>0</td>\n",
       "      <td>0</td>\n",
       "      <td>0</td>\n",
       "      <td>0</td>\n",
       "      <td>0</td>\n",
       "    </tr>\n",
       "    <tr>\n",
       "      <th>9660</th>\n",
       "      <td>0</td>\n",
       "      <td>0</td>\n",
       "      <td>0</td>\n",
       "      <td>0</td>\n",
       "      <td>0</td>\n",
       "      <td>0</td>\n",
       "      <td>0</td>\n",
       "      <td>0</td>\n",
       "      <td>0</td>\n",
       "      <td>0</td>\n",
       "      <td>...</td>\n",
       "      <td>0</td>\n",
       "      <td>0</td>\n",
       "      <td>1</td>\n",
       "      <td>0</td>\n",
       "      <td>1</td>\n",
       "      <td>0</td>\n",
       "      <td>0</td>\n",
       "      <td>0</td>\n",
       "      <td>0</td>\n",
       "      <td>0</td>\n",
       "    </tr>\n",
       "  </tbody>\n",
       "</table>\n",
       "<p>9661 rows × 58 columns</p>\n",
       "</div>"
      ],
      "text/plain": [
       "      Группа_Велик ГЕО  Группа_Велик Купить / Цена  Группа_Веломагазин  \\\n",
       "0                    0                           0                   0   \n",
       "1                    0                           0                   0   \n",
       "2                    0                           0                   0   \n",
       "3                    0                           0                   1   \n",
       "4                    0                           0                   0   \n",
       "...                ...                         ...                 ...   \n",
       "9656                 0                           0                   1   \n",
       "9657                 0                           0                   0   \n",
       "9658                 0                           0                   0   \n",
       "9659                 0                           0                   0   \n",
       "9660                 0                           0                   0   \n",
       "\n",
       "      Группа_Велосипед +для лет/года  Группа_Велосипед Favorit  \\\n",
       "0                                  0                         0   \n",
       "1                                  0                         0   \n",
       "2                                  0                         0   \n",
       "3                                  0                         0   \n",
       "4                                  0                         0   \n",
       "...                              ...                       ...   \n",
       "9656                               0                         0   \n",
       "9657                               0                         0   \n",
       "9658                               0                         0   \n",
       "9659                               0                         0   \n",
       "9660                               0                         0   \n",
       "\n",
       "      Группа_Велосипед Novatrack  Группа_Велосипед Stels  \\\n",
       "0                              0                       0   \n",
       "1                              0                       0   \n",
       "2                              0                       1   \n",
       "3                              0                       0   \n",
       "4                              0                       0   \n",
       "...                          ...                     ...   \n",
       "9656                           0                       0   \n",
       "9657                           0                       0   \n",
       "9658                           0                       0   \n",
       "9659                           0                       0   \n",
       "9660                           0                       0   \n",
       "\n",
       "      Группа_Велосипед Stinger  Группа_Велосипед Ангарск  \\\n",
       "0                            0                         0   \n",
       "1                            0                         0   \n",
       "2                            0                         0   \n",
       "3                            0                         0   \n",
       "4                            0                         1   \n",
       "...                        ...                       ...   \n",
       "9656                         0                         0   \n",
       "9657                         0                         0   \n",
       "9658                         0                         0   \n",
       "9659                         0                         0   \n",
       "9660                         0                         0   \n",
       "\n",
       "      Группа_Велосипед Большой  ...  Уровень платежеспособности_2-5%  \\\n",
       "0                            0  ...                                0   \n",
       "1                            0  ...                                0   \n",
       "2                            0  ...                                0   \n",
       "3                            0  ...                                0   \n",
       "4                            0  ...                                0   \n",
       "...                        ...  ...                              ...   \n",
       "9656                         0  ...                                0   \n",
       "9657                         0  ...                                0   \n",
       "9658                         0  ...                                0   \n",
       "9659                         0  ...                                0   \n",
       "9660                         0  ...                                0   \n",
       "\n",
       "      Уровень платежеспособности_6-10%  Уровень платежеспособности_Остальные  \\\n",
       "0                                    0                                     1   \n",
       "1                                    0                                     1   \n",
       "2                                    0                                     1   \n",
       "3                                    1                                     0   \n",
       "4                                    0                                     1   \n",
       "...                                ...                                   ...   \n",
       "9656                                 0                                     1   \n",
       "9657                                 1                                     0   \n",
       "9658                                 0                                     1   \n",
       "9659                                 0                                     1   \n",
       "9660                                 0                                     1   \n",
       "\n",
       "      Возраст_18-24  Возраст_25-34  Возраст_35-44  Возраст_45-54  \\\n",
       "0                 0              0              1              0   \n",
       "1                 0              0              1              0   \n",
       "2                 0              0              0              0   \n",
       "3                 0              0              0              1   \n",
       "4                 0              1              0              0   \n",
       "...             ...            ...            ...            ...   \n",
       "9656              0              0              0              1   \n",
       "9657              0              0              1              0   \n",
       "9658              1              0              0              0   \n",
       "9659              0              1              0              0   \n",
       "9660              0              1              0              0   \n",
       "\n",
       "      Возраст_младше 18  Возраст_не определен  Возраст_старше 55  \n",
       "0                     0                     0                  0  \n",
       "1                     0                     0                  0  \n",
       "2                     0                     1                  0  \n",
       "3                     0                     0                  0  \n",
       "4                     0                     0                  0  \n",
       "...                 ...                   ...                ...  \n",
       "9656                  0                     0                  0  \n",
       "9657                  0                     0                  0  \n",
       "9658                  0                     0                  0  \n",
       "9659                  0                     0                  0  \n",
       "9660                  0                     0                  0  \n",
       "\n",
       "[9661 rows x 58 columns]"
      ]
     },
     "execution_count": 10,
     "metadata": {},
     "output_type": "execute_result"
    }
   ],
   "source": [
    "df_encoded"
   ]
  },
  {
   "cell_type": "code",
   "execution_count": 12,
   "id": "97a8acca-d306-45a0-9af3-a4dfbe82ded0",
   "metadata": {},
   "outputs": [
    {
     "name": "stdout",
     "output_type": "stream",
     "text": [
      "Collecting xgboost\n",
      "  Downloading xgboost-2.1.2-py3-none-macosx_10_15_x86_64.macosx_11_0_x86_64.macosx_12_0_x86_64.whl (2.1 MB)\n",
      "\u001b[2K     \u001b[90m━━━━━━━━━━━━━━━━━━━━━━━━━━━━━━━━━━━━━━━━\u001b[0m \u001b[32m2.1/2.1 MB\u001b[0m \u001b[31m566.0 kB/s\u001b[0m eta \u001b[36m0:00:00\u001b[0m00:01\u001b[0m00:01\u001b[0m\n",
      "\u001b[?25hRequirement already satisfied: numpy in /Users/zoya/miniconda3/lib/python3.11/site-packages (from xgboost) (1.25.2)\n",
      "Requirement already satisfied: scipy in /Users/zoya/miniconda3/lib/python3.11/site-packages (from xgboost) (1.11.2)\n",
      "Installing collected packages: xgboost\n",
      "Successfully installed xgboost-2.1.2\n"
     ]
    }
   ],
   "source": [
    "!pip install xgboost"
   ]
  },
  {
   "cell_type": "code",
   "execution_count": 13,
   "id": "ace6cb47-6b77-4fb5-8972-880dcc11671f",
   "metadata": {},
   "outputs": [
    {
     "name": "stdout",
     "output_type": "stream",
     "text": [
      "Collecting lightgbm\n",
      "  Downloading lightgbm-4.5.0-py3-none-macosx_10_15_x86_64.whl (1.9 MB)\n",
      "\u001b[2K     \u001b[90m━━━━━━━━━━━━━━━━━━━━━━━━━━━━━━━━━━━━━━━━\u001b[0m \u001b[32m1.9/1.9 MB\u001b[0m \u001b[31m460.7 kB/s\u001b[0m eta \u001b[36m0:00:00\u001b[0m00:01\u001b[0m00:01\u001b[0m\n",
      "\u001b[?25hRequirement already satisfied: numpy>=1.17.0 in /Users/zoya/miniconda3/lib/python3.11/site-packages (from lightgbm) (1.25.2)\n",
      "Requirement already satisfied: scipy in /Users/zoya/miniconda3/lib/python3.11/site-packages (from lightgbm) (1.11.2)\n",
      "Installing collected packages: lightgbm\n",
      "Successfully installed lightgbm-4.5.0\n"
     ]
    }
   ],
   "source": [
    "!pip install lightgbm"
   ]
  },
  {
   "cell_type": "code",
   "execution_count": 16,
   "id": "d328bff6-3f5b-40da-a5a3-2813bb70081d",
   "metadata": {},
   "outputs": [],
   "source": [
    "from sklearn.model_selection import cross_val_score, StratifiedKFold\n",
    "from sklearn.ensemble import RandomForestClassifier, GradientBoostingClassifier, AdaBoostClassifier\n",
    "from xgboost import XGBClassifier\n",
    "from lightgbm import LGBMClassifier\n"
   ]
  },
  {
   "cell_type": "code",
   "execution_count": 17,
   "id": "acb1ba21-d740-4861-82b2-7a2badc4dcd9",
   "metadata": {},
   "outputs": [],
   "source": [
    "models = {\n",
    "    \"RandomForest\": RandomForestClassifier(n_estimators=100, random_state=42),\n",
    "    \"GradientBoosting\": GradientBoostingClassifier(n_estimators=100, learning_rate=0.1, random_state=42),\n",
    "    \"AdaBoost\": AdaBoostClassifier(n_estimators=100, random_state=42),\n",
    "    \"XGBoost\": XGBClassifier(n_estimators=100, use_label_encoder=False, eval_metric=\"logloss\", random_state=42),\n",
    "    \"LightGBM\": LGBMClassifier(n_estimators=100, random_state=42),\n",
    "}\n"
   ]
  },
  {
   "cell_type": "markdown",
   "id": "77c37ae9-d6e9-4146-b0b7-658e35e231a7",
   "metadata": {},
   "source": [
    "### Измеряем качество с balanced_accuracy на кросс-валидации\n"
   ]
  },
  {
   "cell_type": "code",
   "execution_count": 21,
   "id": "eb6c00a8-b9f9-4ba5-abdb-82755bdbe5b4",
   "metadata": {},
   "outputs": [
    {
     "name": "stdout",
     "output_type": "stream",
     "text": [
      "RandomForest: Mean Accuracy = 0.5054, Std = 0.0052\n",
      "GradientBoosting: Mean Accuracy = 0.4997, Std = 0.0002\n",
      "AdaBoost: Mean Accuracy = 0.5000, Std = 0.0000\n"
     ]
    },
    {
     "name": "stderr",
     "output_type": "stream",
     "text": [
      "/Users/zoya/miniconda3/lib/python3.11/site-packages/xgboost/core.py:158: UserWarning: [13:34:22] WARNING: /Users/runner/work/xgboost/xgboost/src/learner.cc:740: \n",
      "Parameters: { \"use_label_encoder\" } are not used.\n",
      "\n",
      "  warnings.warn(smsg, UserWarning)\n",
      "/Users/zoya/miniconda3/lib/python3.11/site-packages/xgboost/core.py:158: UserWarning: [13:34:22] WARNING: /Users/runner/work/xgboost/xgboost/src/learner.cc:740: \n",
      "Parameters: { \"use_label_encoder\" } are not used.\n",
      "\n",
      "  warnings.warn(smsg, UserWarning)\n",
      "/Users/zoya/miniconda3/lib/python3.11/site-packages/xgboost/core.py:158: UserWarning: [13:34:22] WARNING: /Users/runner/work/xgboost/xgboost/src/learner.cc:740: \n",
      "Parameters: { \"use_label_encoder\" } are not used.\n",
      "\n",
      "  warnings.warn(smsg, UserWarning)\n",
      "/Users/zoya/miniconda3/lib/python3.11/site-packages/xgboost/core.py:158: UserWarning: [13:34:22] WARNING: /Users/runner/work/xgboost/xgboost/src/learner.cc:740: \n",
      "Parameters: { \"use_label_encoder\" } are not used.\n",
      "\n",
      "  warnings.warn(smsg, UserWarning)\n",
      "/Users/zoya/miniconda3/lib/python3.11/site-packages/xgboost/core.py:158: UserWarning: [13:34:23] WARNING: /Users/runner/work/xgboost/xgboost/src/learner.cc:740: \n",
      "Parameters: { \"use_label_encoder\" } are not used.\n",
      "\n",
      "  warnings.warn(smsg, UserWarning)\n"
     ]
    },
    {
     "name": "stdout",
     "output_type": "stream",
     "text": [
      "XGBoost: Mean Accuracy = 0.5020, Std = 0.0026\n",
      "[LightGBM] [Warning] Found whitespace in feature_names, replace with underlines\n",
      "[LightGBM] [Info] Number of positive: 950, number of negative: 6778\n",
      "[LightGBM] [Info] Auto-choosing row-wise multi-threading, the overhead of testing was 0.000401 seconds.\n",
      "You can set `force_row_wise=true` to remove the overhead.\n",
      "And if memory is not enough, you can set `force_col_wise=true`.\n",
      "[LightGBM] [Info] Total Bins 110\n",
      "[LightGBM] [Info] Number of data points in the train set: 7728, number of used features: 55\n",
      "[LightGBM] [Info] [binary:BoostFromScore]: pavg=0.122930 -> initscore=-1.964975\n",
      "[LightGBM] [Info] Start training from score -1.964975\n",
      "[LightGBM] [Warning] Found whitespace in feature_names, replace with underlines\n",
      "[LightGBM] [Info] Number of positive: 951, number of negative: 6778\n",
      "[LightGBM] [Info] Auto-choosing row-wise multi-threading, the overhead of testing was 0.000551 seconds.\n",
      "You can set `force_row_wise=true` to remove the overhead.\n",
      "And if memory is not enough, you can set `force_col_wise=true`.\n",
      "[LightGBM] [Info] Total Bins 110\n",
      "[LightGBM] [Info] Number of data points in the train set: 7729, number of used features: 55\n",
      "[LightGBM] [Info] [binary:BoostFromScore]: pavg=0.123043 -> initscore=-1.963923\n",
      "[LightGBM] [Info] Start training from score -1.963923\n",
      "[LightGBM] [Warning] Found whitespace in feature_names, replace with underlines\n",
      "[LightGBM] [Info] Number of positive: 951, number of negative: 6778\n",
      "[LightGBM] [Info] Auto-choosing row-wise multi-threading, the overhead of testing was 0.000403 seconds.\n",
      "You can set `force_row_wise=true` to remove the overhead.\n",
      "And if memory is not enough, you can set `force_col_wise=true`.\n",
      "[LightGBM] [Info] Total Bins 112\n",
      "[LightGBM] [Info] Number of data points in the train set: 7729, number of used features: 56\n",
      "[LightGBM] [Info] [binary:BoostFromScore]: pavg=0.123043 -> initscore=-1.963923\n",
      "[LightGBM] [Info] Start training from score -1.963923\n",
      "[LightGBM] [Warning] Found whitespace in feature_names, replace with underlines\n",
      "[LightGBM] [Info] Number of positive: 950, number of negative: 6779\n",
      "[LightGBM] [Info] Auto-choosing row-wise multi-threading, the overhead of testing was 0.000287 seconds.\n",
      "You can set `force_row_wise=true` to remove the overhead.\n",
      "And if memory is not enough, you can set `force_col_wise=true`.\n",
      "[LightGBM] [Info] Total Bins 112\n",
      "[LightGBM] [Info] Number of data points in the train set: 7729, number of used features: 56\n",
      "[LightGBM] [Info] [binary:BoostFromScore]: pavg=0.122914 -> initscore=-1.965123\n",
      "[LightGBM] [Info] Start training from score -1.965123\n",
      "[LightGBM] [Warning] Found whitespace in feature_names, replace with underlines\n",
      "[LightGBM] [Info] Number of positive: 950, number of negative: 6779\n",
      "[LightGBM] [Info] Auto-choosing row-wise multi-threading, the overhead of testing was 0.000316 seconds.\n",
      "You can set `force_row_wise=true` to remove the overhead.\n",
      "And if memory is not enough, you can set `force_col_wise=true`.\n",
      "[LightGBM] [Info] Total Bins 112\n",
      "[LightGBM] [Info] Number of data points in the train set: 7729, number of used features: 56\n",
      "[LightGBM] [Info] [binary:BoostFromScore]: pavg=0.122914 -> initscore=-1.965123\n",
      "[LightGBM] [Info] Start training from score -1.965123\n",
      "LightGBM: Mean Accuracy = 0.5018, Std = 0.0006\n"
     ]
    }
   ],
   "source": [
    "cv = StratifiedKFold(n_splits=5, shuffle=True, random_state=42)\n",
    "results = {}\n",
    "\n",
    "for name, model in models.items():\n",
    "    scores = cross_val_score(model, df_encoded, y, cv=cv, scoring=\"balanced_accuracy\")\n",
    "    results[name] = {\n",
    "        \"mean_accuracy\": np.mean(scores),\n",
    "        \"std_accuracy\": np.std(scores)\n",
    "    }\n",
    "    print(f\"{name}: Mean Accuracy = {results[name]['mean_accuracy']:.4f}, Std = {results[name]['std_accuracy']:.4f}\")\n"
   ]
  },
  {
   "cell_type": "markdown",
   "id": "813f87e3-04f1-46b2-8f98-ed21bdba1d67",
   "metadata": {},
   "source": [
    "### Попробуем протюнить RandomForest"
   ]
  },
  {
   "cell_type": "markdown",
   "id": "6b4926e9-b6ac-466c-bae4-128ee02de884",
   "metadata": {},
   "source": [
    "1. Добавим class_weight=\"balanced\"\n",
    "2. Отберем признаки с помощью RFE\n",
    "3. Переберем гиперпараметры "
   ]
  },
  {
   "cell_type": "code",
   "execution_count": 57,
   "id": "90fa63a6-0735-46e8-bc46-e72eadda8daf",
   "metadata": {},
   "outputs": [
    {
     "name": "stdout",
     "output_type": "stream",
     "text": [
      " Random Forest Tuning = 0.5676, Std = 0.0115\n"
     ]
    }
   ],
   "source": [
    "model = RandomForestClassifier(class_weight=\"balanced\", random_state=42)\n",
    "scores = cross_val_score(model, df_encoded, y, cv=cv, scoring=\"balanced_accuracy\")\n",
    "results[name] = {\n",
    "        \"mean_accuracy\": np.mean(scores),\n",
    "        \"std_accuracy\": np.std(scores)\n",
    "    }\n",
    "print(f\" Random Forest Tuning = {results[name]['mean_accuracy']:.4f}, Std = {results[name]['std_accuracy']:.4f}\")\n"
   ]
  },
  {
   "cell_type": "code",
   "execution_count": 64,
   "id": "85bfdac8-568f-4324-b3cf-6d24ad9b34d4",
   "metadata": {},
   "outputs": [
    {
     "name": "stdout",
     "output_type": "stream",
     "text": [
      "Index(['Группа_Велик Купить / Цена', 'Группа_Веломагазин',\n",
      "       'Группа_Велосипед Stels', 'Группа_Велосипед Stinger',\n",
      "       'Группа_Велосипед Ангарск', 'Группа_Велосипед Братск',\n",
      "       'Группа_Велосипед Детский', 'Группа_Велосипед Иркутск',\n",
      "       'Группа_Велосипед Каталог', 'Группа_Велосипед Купить',\n",
      "       'Группа_Велосипед Магазин', 'Группа_Велосипед Подростковый',\n",
      "       'Формат_графический', 'Тип устройства_десктоп',\n",
      "       'Тип устройства_мобильные', 'Пол_женский', 'Пол_мужской',\n",
      "       'Категория таргетинга_Целевые запросы',\n",
      "       'Категория таргетинга_не определено',\n",
      "       'Упоминание брендов_Без упоминания вашего бренда',\n",
      "       'Упоминание брендов_С упоминанием брендов конкурентов',\n",
      "       'Упоминание брендов_не определено', 'Уровень платежеспособности_6-10%',\n",
      "       'Уровень платежеспособности_Остальные', 'Возраст_18-24',\n",
      "       'Возраст_25-34', 'Возраст_35-44', 'Возраст_45-54', 'Возраст_младше 18',\n",
      "       'Возраст_старше 55'],\n",
      "      dtype='object')\n"
     ]
    }
   ],
   "source": [
    "from sklearn.feature_selection import RFE\n",
    "from sklearn.ensemble import RandomForestClassifier\n",
    "\n",
    "# Инициализируем модель\n",
    "model = RandomForestClassifier(class_weight=\"balanced\", random_state=42)\n",
    "\n",
    "# RFE для отбора признаков\n",
    "rfe = RFE(model, n_features_to_select=30)\n",
    "rfe.fit(df_encoded, y)\n",
    "\n",
    "# Оставляем только важные признаки\n",
    "selected_features =  df_encoded.columns[rfe.support_]\n",
    "print(selected_features)"
   ]
  },
  {
   "cell_type": "code",
   "execution_count": 67,
   "id": "a5a4c55d-a4c4-4fa9-bc10-7a7d993b1d29",
   "metadata": {},
   "outputs": [],
   "source": [
    "import matplotlib.pyplot as plt\n",
    "accuracies = []\n",
    "for i in range(5,30):\n",
    "    model = RandomForestClassifier(class_weight=\"balanced\", random_state=42)\n",
    "    scores = cross_val_score(model, df_encoded[selected_features[:i]], y, cv=cv, scoring=\"balanced_accuracy\")\n",
    "    acc = np.mean(scores)\n",
    "    accuracies.append(acc)\n",
    "\n"
   ]
  },
  {
   "cell_type": "code",
   "execution_count": 69,
   "id": "428acc47-a2ca-47f3-96f9-8fc1e1fa7a97",
   "metadata": {},
   "outputs": [
    {
     "data": {
      "image/png": "[encoded data removed]",
      "text/plain": [
       "<Figure size 640x480 with 1 Axes>"
      ]
     },
     "metadata": {},
     "output_type": "display_data"
    }
   ],
   "source": [
    "plt.plot(list(range(5, 30)), accuracies)\n",
    "plt.grid()"
   ]
  },
  {
   "cell_type": "code",
   "execution_count": 75,
   "id": "344a2986-af15-46c5-a57a-761b8e6b5363",
   "metadata": {},
   "outputs": [
    {
     "name": "stdout",
     "output_type": "stream",
     "text": [
      " Random Forest Tuning = 0.5886, Std = 0.0178\n"
     ]
    }
   ],
   "source": [
    "model = RandomForestClassifier(class_weight=\"balanced\", random_state=42)\n",
    "scores = cross_val_score(model, df_encoded[selected_features[:24]], y, cv=cv, scoring=\"balanced_accuracy\")\n",
    "results[name] = {\n",
    "        \"mean_accuracy\": np.mean(scores),\n",
    "        \"std_accuracy\": np.std(scores)\n",
    "    }\n",
    "print(f\" Random Forest Tuning = {results[name]['mean_accuracy']:.4f}, Std = {results[name]['std_accuracy']:.4f}\")\n"
   ]
  },
  {
   "cell_type": "code",
   "execution_count": 76,
   "id": "936a65f0-aafa-4bd3-a4a8-7d4259216bdb",
   "metadata": {},
   "outputs": [
    {
     "name": "stdout",
     "output_type": "stream",
     "text": [
      "Fitting 5 folds for each of 50 candidates, totalling 250 fits\n",
      "Best Parameters: {'max_depth': 10, 'min_samples_leaf': 4, 'min_samples_split': 3, 'n_estimators': 71}\n",
      "Best Balanced Accuracy: 0.6015497243930423\n"
     ]
    }
   ],
   "source": [
    "from sklearn.model_selection import RandomizedSearchCV\n",
    "from sklearn.ensemble import RandomForestClassifier\n",
    "from sklearn.metrics import make_scorer, balanced_accuracy_score\n",
    "from scipy.stats import randint\n",
    "\n",
    "# Определите распределение гиперпараметров\n",
    "param_distributions = {\n",
    "    \"n_estimators\": randint(50, 200),\n",
    "    \"max_depth\": [10, 20, None],\n",
    "    \"min_samples_split\": randint(2, 10),\n",
    "    \"min_samples_leaf\": randint(1, 5),\n",
    "}\n",
    "\n",
    "# Создайте модель\n",
    "model = RandomForestClassifier(class_weight=\"balanced\", random_state=42)\n",
    "\n",
    "# Создайте объект RandomizedSearchCV\n",
    "random_search = RandomizedSearchCV(\n",
    "    estimator=model,\n",
    "    param_distributions=param_distributions,\n",
    "    scoring=\"balanced_accuracy\",\n",
    "    cv=cv,\n",
    "    n_iter=50,  # количество случайных комбинаций\n",
    "    n_jobs=-1,\n",
    "    verbose=1,\n",
    "    random_state=42\n",
    ")\n",
    "\n",
    "# Обучение модели на данных\n",
    "random_search.fit(df_encoded[selected_features[:24]], y)\n",
    "\n",
    "# Результаты\n",
    "print(\"Best Parameters:\", random_search.best_params_)\n",
    "print(\"Best Balanced Accuracy:\", random_search.best_score_)\n"
   ]
  },
  {
   "cell_type": "code",
   "execution_count": 77,
   "id": "233400c9-eea4-431f-94bf-9037e458adce",
   "metadata": {},
   "outputs": [
    {
     "name": "stdout",
     "output_type": "stream",
     "text": [
      " Random Forest Tuning = 0.6015, Std = 0.0152\n"
     ]
    }
   ],
   "source": [
    "model = RandomForestClassifier(class_weight=\"balanced\", random_state=42, \n",
    "                               max_depth=10, min_samples_leaf=4, min_samples_split=3,\n",
    "                              n_estimators=71)\n",
    "scores = cross_val_score(model, df_encoded[selected_features[:24]], y, cv=cv, scoring=\"balanced_accuracy\")\n",
    "results[name] = {\n",
    "        \"mean_accuracy\": np.mean(scores),\n",
    "        \"std_accuracy\": np.std(scores)\n",
    "    }\n",
    "print(f\" Random Forest Tuning = {results[name]['mean_accuracy']:.4f}, Std = {results[name]['std_accuracy']:.4f}\")\n"
   ]
  },
  {
   "cell_type": "code",
   "execution_count": 81,
   "id": "20cbcfdd-b372-406b-a1bb-40aea460f45a",
   "metadata": {},
   "outputs": [
    {
     "data": {
      "text/html": [
       "<style>#sk-container-id-1 {color: black;}#sk-container-id-1 pre{padding: 0;}#sk-container-id-1 div.sk-toggleable {background-color: white;}#sk-container-id-1 label.sk-toggleable__label {cursor: pointer;display: block;width: 100%;margin-bottom: 0;padding: 0.3em;box-sizing: border-box;text-align: center;}#sk-container-id-1 label.sk-toggleable__label-arrow:before {content: \"▸\";float: left;margin-right: 0.25em;color: #696969;}#sk-container-id-1 label.sk-toggleable__label-arrow:hover:before {color: black;}#sk-container-id-1 div.sk-estimator:hover label.sk-toggleable__label-arrow:before {color: black;}#sk-container-id-1 div.sk-toggleable__content {max-height: 0;max-width: 0;overflow: hidden;text-align: left;background-color: #f0f8ff;}#sk-container-id-1 div.sk-toggleable__content pre {margin: 0.2em;color: black;border-radius: 0.25em;background-color: #f0f8ff;}#sk-container-id-1 input.sk-toggleable__control:checked~div.sk-toggleable__content {max-height: 200px;max-width: 100%;overflow: auto;}#sk-container-id-1 input.sk-toggleable__control:checked~label.sk-toggleable__label-arrow:before {content: \"▾\";}#sk-container-id-1 div.sk-estimator input.sk-toggleable__control:checked~label.sk-toggleable__label {background-color: #d4ebff;}#sk-container-id-1 div.sk-label input.sk-toggleable__control:checked~label.sk-toggleable__label {background-color: #d4ebff;}#sk-container-id-1 input.sk-hidden--visually {border: 0;clip: rect(1px 1px 1px 1px);clip: rect(1px, 1px, 1px, 1px);height: 1px;margin: -1px;overflow: hidden;padding: 0;position: absolute;width: 1px;}#sk-container-id-1 div.sk-estimator {font-family: monospace;background-color: #f0f8ff;border: 1px dotted black;border-radius: 0.25em;box-sizing: border-box;margin-bottom: 0.5em;}#sk-container-id-1 div.sk-estimator:hover {background-color: #d4ebff;}#sk-container-id-1 div.sk-parallel-item::after {content: \"\";width: 100%;border-bottom: 1px solid gray;flex-grow: 1;}#sk-container-id-1 div.sk-label:hover label.sk-toggleable__label {background-color: #d4ebff;}#sk-container-id-1 div.sk-serial::before {content: \"\";position: absolute;border-left: 1px solid gray;box-sizing: border-box;top: 0;bottom: 0;left: 50%;z-index: 0;}#sk-container-id-1 div.sk-serial {display: flex;flex-direction: column;align-items: center;background-color: white;padding-right: 0.2em;padding-left: 0.2em;position: relative;}#sk-container-id-1 div.sk-item {position: relative;z-index: 1;}#sk-container-id-1 div.sk-parallel {display: flex;align-items: stretch;justify-content: center;background-color: white;position: relative;}#sk-container-id-1 div.sk-item::before, #sk-container-id-1 div.sk-parallel-item::before {content: \"\";position: absolute;border-left: 1px solid gray;box-sizing: border-box;top: 0;bottom: 0;left: 50%;z-index: -1;}#sk-container-id-1 div.sk-parallel-item {display: flex;flex-direction: column;z-index: 1;position: relative;background-color: white;}#sk-container-id-1 div.sk-parallel-item:first-child::after {align-self: flex-end;width: 50%;}#sk-container-id-1 div.sk-parallel-item:last-child::after {align-self: flex-start;width: 50%;}#sk-container-id-1 div.sk-parallel-item:only-child::after {width: 0;}#sk-container-id-1 div.sk-dashed-wrapped {border: 1px dashed gray;margin: 0 0.4em 0.5em 0.4em;box-sizing: border-box;padding-bottom: 0.4em;background-color: white;}#sk-container-id-1 div.sk-label label {font-family: monospace;font-weight: bold;display: inline-block;line-height: 1.2em;}#sk-container-id-1 div.sk-label-container {text-align: center;}#sk-container-id-1 div.sk-container {/* jupyter's `normalize.less` sets `[hidden] { display: none; }` but bootstrap.min.css set `[hidden] { display: none !important; }` so we also need the `!important` here to be able to override the default hidden behavior on the sphinx rendered scikit-learn.org. See: https://github.com/scikit-learn/scikit-learn/issues/21755 */display: inline-block !important;position: relative;}#sk-container-id-1 div.sk-text-repr-fallback {display: none;}</style><div id=\"sk-container-id-1\" class=\"sk-top-container\"><div class=\"sk-text-repr-fallback\"><pre>RandomForestClassifier(class_weight=&#x27;balanced&#x27;, max_depth=10,\n",
       "                       min_samples_leaf=4, min_samples_split=3, n_estimators=71,\n",
       "                       random_state=42)</pre><b>In a Jupyter environment, please rerun this cell to show the HTML representation or trust the notebook. <br />On GitHub, the HTML representation is unable to render, please try loading this page with nbviewer.org.</b></div><div class=\"sk-container\" hidden><div class=\"sk-item\"><div class=\"sk-estimator sk-toggleable\"><input class=\"sk-toggleable__control sk-hidden--visually\" id=\"sk-estimator-id-1\" type=\"checkbox\" checked><label for=\"sk-estimator-id-1\" class=\"sk-toggleable__label sk-toggleable__label-arrow\">RandomForestClassifier</label><div class=\"sk-toggleable__content\"><pre>RandomForestClassifier(class_weight=&#x27;balanced&#x27;, max_depth=10,\n",
       "                       min_samples_leaf=4, min_samples_split=3, n_estimators=71,\n",
       "                       random_state=42)</pre></div></div></div></div></div>"
      ],
      "text/plain": [
       "RandomForestClassifier(class_weight='balanced', max_depth=10,\n",
       "                       min_samples_leaf=4, min_samples_split=3, n_estimators=71,\n",
       "                       random_state=42)"
      ]
     },
     "execution_count": 81,
     "metadata": {},
     "output_type": "execute_result"
    }
   ],
   "source": [
    "model.fit(df_encoded[selected_features[:24]], y)"
   ]
  },
  {
   "cell_type": "code",
   "execution_count": 101,
   "id": "fc224886-31fe-41b6-8fbf-f42b69249bc2",
   "metadata": {},
   "outputs": [],
   "source": [
    "prediction = model.predict(X_test_encoded[selected_features[:24]])"
   ]
  },
  {
   "cell_type": "code",
   "execution_count": 102,
   "id": "b11ebc2b-e71d-4452-9840-c1edd0fa2733",
   "metadata": {},
   "outputs": [
    {
     "data": {
      "text/plain": [
       "(262,)"
      ]
     },
     "execution_count": 102,
     "metadata": {},
     "output_type": "execute_result"
    }
   ],
   "source": [
    "prediction.shape"
   ]
  },
  {
   "cell_type": "code",
   "execution_count": 103,
   "id": "88f4de6d-e39c-4593-9c9c-5bc1d1460d54",
   "metadata": {},
   "outputs": [],
   "source": [
    "random_solution = pd.read_csv(\"./bicycle-sales/final_kaggle_submission.csv\")"
   ]
  },
  {
   "cell_type": "code",
   "execution_count": 104,
   "id": "b89a0045-128e-44a4-979d-4d0e09e4f0dd",
   "metadata": {},
   "outputs": [
    {
     "data": {
      "text/html": [
       "<div>\n",
       "<style scoped>\n",
       "    .dataframe tbody tr th:only-of-type {\n",
       "        vertical-align: middle;\n",
       "    }\n",
       "\n",
       "    .dataframe tbody tr th {\n",
       "        vertical-align: top;\n",
       "    }\n",
       "\n",
       "    .dataframe thead th {\n",
       "        text-align: right;\n",
       "    }\n",
       "</style>\n",
       "<table border=\"1\" class=\"dataframe\">\n",
       "  <thead>\n",
       "    <tr style=\"text-align: right;\">\n",
       "      <th></th>\n",
       "      <th>id</th>\n",
       "      <th>prediction</th>\n",
       "    </tr>\n",
       "  </thead>\n",
       "  <tbody>\n",
       "    <tr>\n",
       "      <th>0</th>\n",
       "      <td>4877</td>\n",
       "      <td>1</td>\n",
       "    </tr>\n",
       "    <tr>\n",
       "      <th>1</th>\n",
       "      <td>9170</td>\n",
       "      <td>0</td>\n",
       "    </tr>\n",
       "    <tr>\n",
       "      <th>2</th>\n",
       "      <td>3715</td>\n",
       "      <td>1</td>\n",
       "    </tr>\n",
       "    <tr>\n",
       "      <th>3</th>\n",
       "      <td>8834</td>\n",
       "      <td>1</td>\n",
       "    </tr>\n",
       "    <tr>\n",
       "      <th>4</th>\n",
       "      <td>9140</td>\n",
       "      <td>1</td>\n",
       "    </tr>\n",
       "    <tr>\n",
       "      <th>...</th>\n",
       "      <td>...</td>\n",
       "      <td>...</td>\n",
       "    </tr>\n",
       "    <tr>\n",
       "      <th>257</th>\n",
       "      <td>3140</td>\n",
       "      <td>1</td>\n",
       "    </tr>\n",
       "    <tr>\n",
       "      <th>258</th>\n",
       "      <td>7638</td>\n",
       "      <td>1</td>\n",
       "    </tr>\n",
       "    <tr>\n",
       "      <th>259</th>\n",
       "      <td>2405</td>\n",
       "      <td>0</td>\n",
       "    </tr>\n",
       "    <tr>\n",
       "      <th>260</th>\n",
       "      <td>7360</td>\n",
       "      <td>1</td>\n",
       "    </tr>\n",
       "    <tr>\n",
       "      <th>261</th>\n",
       "      <td>9036</td>\n",
       "      <td>0</td>\n",
       "    </tr>\n",
       "  </tbody>\n",
       "</table>\n",
       "<p>262 rows × 2 columns</p>\n",
       "</div>"
      ],
      "text/plain": [
       "       id  prediction\n",
       "0    4877           1\n",
       "1    9170           0\n",
       "2    3715           1\n",
       "3    8834           1\n",
       "4    9140           1\n",
       "..    ...         ...\n",
       "257  3140           1\n",
       "258  7638           1\n",
       "259  2405           0\n",
       "260  7360           1\n",
       "261  9036           0\n",
       "\n",
       "[262 rows x 2 columns]"
      ]
     },
     "execution_count": 104,
     "metadata": {},
     "output_type": "execute_result"
    }
   ],
   "source": [
    "random_solution"
   ]
  },
  {
   "cell_type": "code",
   "execution_count": 105,
   "id": "5a603bf4-b4db-44db-82ab-d5ea3e520e77",
   "metadata": {},
   "outputs": [],
   "source": [
    "baseline_solution = random_solution.copy()"
   ]
  },
  {
   "cell_type": "code",
   "execution_count": 106,
   "id": "bf2d599f-e350-408b-97ee-ba508d1b3843",
   "metadata": {},
   "outputs": [],
   "source": [
    "baseline_solution['prediction'] = prediction"
   ]
  },
  {
   "cell_type": "code",
   "execution_count": 109,
   "id": "bac36654-738a-4a3a-971a-1945e99a96d9",
   "metadata": {},
   "outputs": [],
   "source": [
    "baseline_solution.to_csv(\"./bicycle-sales/baseline_v0.csv\")"
   ]
  },
  {
   "cell_type": "code",
   "execution_count": null,
   "id": "d689bc67-422d-4600-8cfe-49a5e830af51",
   "metadata": {},
   "outputs": [],
   "source": []
  }
 ],
 "metadata": {
  "kernelspec": {
   "display_name": "Python 3 (ipykernel)",
   "language": "python",
   "name": "python3"
  },
  "language_info": {
   "codemirror_mode": {
    "name": "ipython",
    "version": 3
   },
   "file_extension": ".py",
   "mimetype": "text/x-python",
   "name": "python",
   "nbconvert_exporter": "python",
   "pygments_lexer": "ipython3",
   "version": "3.11.4"
  }
 },
 "nbformat": 4,
 "nbformat_minor": 5
}
